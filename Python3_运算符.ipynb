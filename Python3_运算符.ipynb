{
  "nbformat": 4,
  "nbformat_minor": 0,
  "metadata": {
    "colab": {
      "name": "Python3 运算符.ipynb",
      "version": "0.3.2",
      "provenance": [],
      "collapsed_sections": [],
      "include_colab_link": true
    },
    "kernelspec": {
      "name": "python3",
      "display_name": "Python 3"
    }
  },
  "cells": [
    {
      "cell_type": "markdown",
      "metadata": {
        "id": "view-in-github",
        "colab_type": "text"
      },
      "source": [
        "<a href=\"https://colab.research.google.com/github/haohaodada/python/blob/master/Python3_%E8%BF%90%E7%AE%97%E7%AC%A6.ipynb\" target=\"_parent\"><img src=\"https://colab.research.google.com/assets/colab-badge.svg\" alt=\"Open In Colab\"/></a>"
      ]
    },
    {
      "cell_type": "markdown",
      "metadata": {
        "id": "L0lo3JcJ3p3U",
        "colab_type": "text"
      },
      "source": [
        "## Python3 运算符\n",
        "\n",
        "### 什么是运算符？\n",
        "在Python语法规范中，例如 4+5=9 这个算术表达式中，“4” 和“5” 称为“操作数”、\"+\" 称为运算符。\n",
        "\n",
        "Python语言支持以下类型的运算符：\n",
        "* 算术运算符\n",
        "* 赋值运算符\n",
        "* 比较（关系）运算符\n",
        "* 逻辑运算符\n",
        "* 位运算符\n",
        "* 成员运算符\n",
        "* 身份运算符\n",
        "* 运算符优先级\n",
        "\n"
      ]
    },
    {
      "cell_type": "markdown",
      "metadata": {
        "id": "8dVxVtdF7ggD",
        "colab_type": "text"
      },
      "source": [
        "### 算术运算符\n",
        "\n",
        "Python中的算术运算符除了常见的加、减、乘、除以外，还包括取余、幂、取整等运算。具体见下表：\n",
        "\n",
        "\n",
        "| **运算符** |                    **描述**                     |        **实例**         |\n",
        "| :--------: | :---------------------------------------------: | :---------------------: |\n",
        "|     +      |                加 - 两个对象相加                |         10+3=13         |\n",
        "|     -      |       减 - 得到负数或是一个数减去另一个数       |         10-3=7          |\n",
        "|     *      | 乘 - 两个数相乘或是返回一个被重复若干次的字符串 |         10*3=30         |\n",
        "|     /      |                  除 - x 除以 y                  | 10/3=3.3333333333333335 |\n",
        "|     %      |              取模 - 返回除法的余数              |         10%3=1          |\n",
        "|     **     |                幂 - 返回x的y次幂                |       10**3=1000        |\n",
        "|     //     |          取整除 - 向下取接近除数的整数          |         10//3=3         |\n",
        "\n",
        "### 算术运算范例"
      ]
    },
    {
      "cell_type": "code",
      "metadata": {
        "id": "2L9nJPNQ3pC3",
        "colab_type": "code",
        "colab": {}
      },
      "source": [
        "# 算术运算符范例\n",
        "\n",
        "# 初始化变量值\n",
        "a = 10\n",
        "b = 3\n",
        "c = 0\n",
        "\n",
        "# 对变量进行算术运算，再将结果按格式显示\n",
        "c = a + b\n",
        "print (\"10 + 3 的和为：\", c)\n",
        "\n",
        "c = a - b\n",
        "print (\"10 - 3 的差为：\", c)\n",
        " \n",
        "c = a * b\n",
        "print (\"10 × 3 的积为：\", c)\n",
        " \n",
        "c = a / b\n",
        "print (\"10 ÷ 3 的商为：\", c)\n",
        " \n",
        "c = a % b\n",
        "print (\"10 ÷ 3 的余数为：\", c)\n",
        " \n",
        "c = a**b \n",
        "print (\"10 的 3 次幂为：\", c)\n",
        " \n",
        "c = a//b \n",
        "print (\"10 ÷ 3 商的整数部分为：\", c)"
      ],
      "execution_count": 0,
      "outputs": []
    },
    {
      "cell_type": "markdown",
      "metadata": {
        "id": "105CY1V9GuPl",
        "colab_type": "text"
      },
      "source": [
        "### 赋值运算符\n",
        "\n",
        "除了常见的 “=” 赋值以外，Python中还有以下赋值运算符：\n",
        "\n",
        "| **运算符** |  **描述**  |               **实例**                |\n",
        "| :--------: | :--------: | :-----------------------------------: |\n",
        "|     =      | 简单的赋值 | c = a + b 将 a + b 的运算结果赋值为 c |\n",
        "|     +=     |  加法赋值  |        c += a 等效于 c = c + a        |\n",
        "|     -=     |  减法赋值  |        c -= a 等效于 c = c - a        |\n",
        "|     *=     |  乘法赋值  |        c *= a 等效于 c = c * a        |\n",
        "|     /=     |  除法赋值  |        c /= a 等效于 c = c / a        |\n",
        "|     %=     |  取模赋值  |        c %= a 等效于 c = c % a        |\n",
        "|    **=     |   幂赋值   |       c **= a 等效于 c = c ** a       |\n",
        "|    //=     | 取整除赋值 |       c //= a 等效于 c = c // a       |\n",
        "\n",
        "以上赋值运算中，日常编程使用最多的除了简单赋值以外，还有加法赋值、减法赋值。\n",
        "\n",
        "### 赋值运算范例："
      ]
    },
    {
      "cell_type": "code",
      "metadata": {
        "id": "KbzG4PZgKDmO",
        "colab_type": "code",
        "colab": {
          "base_uri": "https://localhost:8080/",
          "height": 161
        },
        "outputId": "35c8c1fe-f8c6-47b6-d006-0a4f00316652"
      },
      "source": [
        "# 赋值运算范例\n",
        "\n",
        "# 初始化变量值\n",
        "a = 10\n",
        "b = 3\n",
        "c = 0\n",
        "\n",
        "# 对变量进行算术运算，再将结果按格式显示\n",
        "c = a + b\n",
        "print (\"10 + 3 的和为：\", c)\n",
        "\n",
        "c += a \n",
        "print (\"c=13,a=10，c与a的加法赋值为：\", c)\n",
        "\n",
        "c -= a \n",
        "print (\"c=23,a=10，c与a的的减法赋值为：\", c)\n",
        "\n",
        "c *= a \n",
        "print (\"c=13,a=10，c与a的乘法赋值为：\", c)\n",
        " \n",
        "c /= a\n",
        "print (\"c=130,a=10，c与a的除法赋值为：\", c)\n",
        " \n",
        "c %= a \n",
        "print (\"c=13.0,a=10，c与a的取模赋值为：\", c)\n",
        " \n",
        "c **= a \n",
        "print (\"c=3.0,a=10，c与a的幂赋值为：\", c)\n",
        " \n",
        "c //= a\n",
        "print (\"c=59049.0,a=10，c与a的取整除赋值为：\", c)"
      ],
      "execution_count": 4,
      "outputs": [
        {
          "output_type": "stream",
          "text": [
            "10 + 3 的和为： 13\n",
            "c=13,a=10，c与a的加法赋值为： 23\n",
            "c=23,a=10，c与a的的减法赋值为： 13\n",
            "c=13,a=10，c与a的乘法赋值为： 130\n",
            "c=130,a=10，c与a的除法赋值为： 13.0\n",
            "c=13.0,a=10，c与a的取模赋值为： 3.0\n",
            "c=3.0,a=10，c与a的幂赋值为： 59049.0\n",
            "c=59049.0,a=10，c与a的取整除赋值为： 5904.0\n"
          ],
          "name": "stdout"
        }
      ]
    }
  ]
}