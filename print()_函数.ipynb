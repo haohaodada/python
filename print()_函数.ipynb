{
  "nbformat": 4,
  "nbformat_minor": 0,
  "metadata": {
    "colab": {
      "name": "print() 函数.ipynb",
      "version": "0.3.2",
      "provenance": [],
      "collapsed_sections": [],
      "include_colab_link": true
    },
    "kernelspec": {
      "name": "python3",
      "display_name": "Python 3"
    }
  },
  "cells": [
    {
      "cell_type": "markdown",
      "metadata": {
        "id": "view-in-github",
        "colab_type": "text"
      },
      "source": [
        "<a href=\"https://colab.research.google.com/github/haohaodada/python/blob/master/print()_%E5%87%BD%E6%95%B0.ipynb\" target=\"_parent\"><img src=\"https://colab.research.google.com/assets/colab-badge.svg\" alt=\"Open In Colab\"/></a>"
      ]
    },
    {
      "cell_type": "markdown",
      "metadata": {
        "id": "Yp8tY_MDHu-l",
        "colab_type": "text"
      },
      "source": [
        "## print() 函数\n",
        "\n",
        "### 描述\n",
        "print() 函数用于打印输出，是Python最常见的一个函数。\n",
        "\n",
        "### 语法\n",
        "`print(*objects, sep=' ', end='\\n', file=sys.stdout)`\n",
        "### 参数\n",
        "* objects -- 复数，表示可以一次输出多个对象。输出多个对象时，需要用 , 分隔。\n",
        "* sep -- 用来间隔多个对象，默认值是一个空格。\n",
        "* end -- 用来设定以什么结尾。默认值是换行符 \\n，我们可以换成其他字符串。\n",
        "* file -- 要写入的文件对象。\n",
        "\n",
        "### 返回值\n",
        "无\n",
        "\n",
        "\n"
      ]
    },
    {
      "cell_type": "markdown",
      "metadata": {
        "id": "T4N3i0JyLN-m",
        "colab_type": "text"
      },
      "source": [
        "### 实例一：输出字符串"
      ]
    },
    {
      "cell_type": "code",
      "metadata": {
        "id": "veRAdgHzAhGz",
        "colab_type": "code",
        "colab": {}
      },
      "source": [
        "print(\"Hello World\")"
      ],
      "execution_count": 0,
      "outputs": []
    },
    {
      "cell_type": "markdown",
      "metadata": {
        "id": "3ZHbehtyJW8-",
        "colab_type": "text"
      },
      "source": [
        "### 实例二：输出数值"
      ]
    },
    {
      "cell_type": "code",
      "metadata": {
        "id": "kJ5UYfGNJcUO",
        "colab_type": "code",
        "colab": {}
      },
      "source": [
        "print(120)"
      ],
      "execution_count": 0,
      "outputs": []
    },
    {
      "cell_type": "markdown",
      "metadata": {
        "id": "cI6_A7HEKH_A",
        "colab_type": "text"
      },
      "source": [
        "### 实例三：输出变量值"
      ]
    },
    {
      "cell_type": "code",
      "metadata": {
        "id": "VPWfAjwoKOOU",
        "colab_type": "code",
        "colab": {}
      },
      "source": [
        "str=\"Hello\"\n",
        "print(str)"
      ],
      "execution_count": 0,
      "outputs": []
    },
    {
      "cell_type": "markdown",
      "metadata": {
        "id": "cR5fj5hqJrRp",
        "colab_type": "text"
      },
      "source": [
        "### 实例四：输出列表"
      ]
    },
    {
      "cell_type": "code",
      "metadata": {
        "id": "xB-MH1AkJ3pf",
        "colab_type": "code",
        "colab": {}
      },
      "source": [
        "L=[1,2,'abc']\n",
        "print(L)"
      ],
      "execution_count": 0,
      "outputs": []
    },
    {
      "cell_type": "markdown",
      "metadata": {
        "id": "w_8V6DIiLq_G",
        "colab_type": "text"
      },
      "source": [
        "### 实例五：不换行输出\n",
        "在 Python 中 print 默认是换行的，加上参数“end”可以不换行。"
      ]
    },
    {
      "cell_type": "code",
      "metadata": {
        "id": "hoRoKs9DMKZG",
        "colab_type": "code",
        "colab": {}
      },
      "source": [
        "for i in range(0,5):\n",
        "  print(i,end='')"
      ],
      "execution_count": 0,
      "outputs": []
    }
  ]
}