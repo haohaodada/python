{
  "nbformat": 4,
  "nbformat_minor": 0,
  "metadata": {
    "colab": {
      "name": "input() 函数.ipynb",
      "version": "0.3.2",
      "provenance": [],
      "collapsed_sections": [],
      "include_colab_link": true
    },
    "kernelspec": {
      "name": "python3",
      "display_name": "Python 3"
    }
  },
  "cells": [
    {
      "cell_type": "markdown",
      "metadata": {
        "id": "view-in-github",
        "colab_type": "text"
      },
      "source": [
        "<a href=\"https://colab.research.google.com/github/haohaodada/python/blob/master/input()_%E5%87%BD%E6%95%B0.ipynb\" target=\"_parent\"><img src=\"https://colab.research.google.com/assets/colab-badge.svg\" alt=\"Open In Colab\"/></a>"
      ]
    },
    {
      "cell_type": "markdown",
      "metadata": {
        "id": "RMhWmuFBZHXg",
        "colab_type": "text"
      },
      "source": [
        "## input() 函数\n",
        "\n",
        "### 描述\n",
        "input() 函数用于接受一个用户的输入。\n",
        "\n",
        "函数中如果存在 prompt 实参，则将其写入标准输出（默认在计算机屏幕上显示），末尾不带换行符。当用户输入并按回车以后，该函数读取用户的输入信息，并将其转换为字符串（除了末尾的换行符）并返回。\n",
        "\n",
        "### 语法\n",
        "input([prompt])\n",
        "\n",
        "### 参数\n",
        "prompt: 用于提示用户的信息\n",
        "\n",
        "### 返回值\n",
        "用户输入的信息，为字符串类型（string） "
      ]
    },
    {
      "cell_type": "markdown",
      "metadata": {
        "id": "1eLjIpDIdPFZ",
        "colab_type": "text"
      },
      "source": [
        "### 实例一：询问并显示用户输入的名字"
      ]
    },
    {
      "cell_type": "code",
      "metadata": {
        "id": "fkrp_RU4YzOW",
        "colab_type": "code",
        "colab": {}
      },
      "source": [
        "name=input(\"请输入您的名字：\")\n",
        "print(\"欢迎您！\",name,\"\" )"
      ],
      "execution_count": 0,
      "outputs": []
    },
    {
      "cell_type": "markdown",
      "metadata": {
        "id": "zXgFSfUzda15",
        "colab_type": "text"
      },
      "source": [
        "### 实例二：接收用户输入的数并运算\n",
        "input()函数默认的返回值为字符串；如果用于数学计算，可以根据需要，使用数值转换函数（最常用的是整型“int()”函数、浮点“float()”函数），将字符串转换为相应的数。"
      ]
    },
    {
      "cell_type": "code",
      "metadata": {
        "id": "e2JJWh5Yfbpj",
        "colab_type": "code",
        "colab": {}
      },
      "source": [
        "r=float(input(\"请输入圆的半径：\"))\n",
        "print(\"您输入这个圆的面积是：\",r**2*3.14)"
      ],
      "execution_count": 0,
      "outputs": []
    }
  ]
}